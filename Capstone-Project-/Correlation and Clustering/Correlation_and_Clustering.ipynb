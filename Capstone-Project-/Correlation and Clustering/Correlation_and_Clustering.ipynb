{
 "cells": [
  {
   "cell_type": "markdown",
   "metadata": {
    "id": "FHjCaiosHATp"
   },
   "source": [
    "# Task 3\n",
    "\n",
    "Do people actually care about licensed work or give more preference to feedback rating? – Explore clustering of jobs, accepted offers vs. feedback rating correlation"
   ]
  },
  {
   "cell_type": "code",
   "execution_count": 15,
   "metadata": {
    "id": "Z8oVwYMDL_HN"
   },
   "outputs": [],
   "source": [
    "import pandas as pd\n",
    "import numpy as np\n",
    "from statsmodels.regression import linear_model\n",
    "from sklearn.preprocessing import PolynomialFeatures\n",
    "import matplotlib.pyplot as plt"
   ]
  },
  {
   "cell_type": "code",
   "execution_count": 17,
   "metadata": {
    "id": "2CHr-0dTQeQ-"
   },
   "outputs": [],
   "source": [
    "file_path = (\"at.xlsx\")\n",
    "data = pd.read_excel(file_path, \n",
    "                              sheet_name = 'Airtasker')"
   ]
  },
  {
   "cell_type": "code",
   "execution_count": 16,
   "metadata": {
    "colab": {
     "base_uri": "https://localhost:8080/",
     "height": 538
    },
    "id": "06YxslzNQmyS",
    "outputId": "7e8619d5-35ca-42df-a7c1-bb45b9cd8363"
   },
   "outputs": [
    {
     "data": {
      "text/html": [
       "<div>\n",
       "<style scoped>\n",
       "    .dataframe tbody tr th:only-of-type {\n",
       "        vertical-align: middle;\n",
       "    }\n",
       "\n",
       "    .dataframe tbody tr th {\n",
       "        vertical-align: top;\n",
       "    }\n",
       "\n",
       "    .dataframe thead th {\n",
       "        text-align: right;\n",
       "    }\n",
       "</style>\n",
       "<table border=\"1\" class=\"dataframe\">\n",
       "  <thead>\n",
       "    <tr style=\"text-align: right;\">\n",
       "      <th></th>\n",
       "      <th>Name</th>\n",
       "      <th>Address</th>\n",
       "      <th>Licence No.</th>\n",
       "      <th>Position</th>\n",
       "      <th>Licence Number Extracted</th>\n",
       "      <th>Find_Desc</th>\n",
       "      <th>Find_Edu</th>\n",
       "      <th>Find_spec</th>\n",
       "      <th>Find_Exp</th>\n",
       "      <th>Description</th>\n",
       "      <th>Rating</th>\n",
       "      <th>Task Completed</th>\n",
       "      <th>Reviews</th>\n",
       "      <th>Completion Rate</th>\n",
       "      <th>Education</th>\n",
       "      <th>Specialities</th>\n",
       "      <th>Languages</th>\n",
       "      <th>Experience</th>\n",
       "      <th>Transportation</th>\n",
       "      <th>TimeFrame</th>\n",
       "      <th>HasLicence</th>\n",
       "    </tr>\n",
       "  </thead>\n",
       "  <tbody>\n",
       "    <tr>\n",
       "      <th>0</th>\n",
       "      <td>Laszlo M.</td>\n",
       "      <td>Brighton VIC 3186, Australia</td>\n",
       "      <td>License no. 47917</td>\n",
       "      <td>13.0</td>\n",
       "      <td>47917</td>\n",
       "      <td>electrician</td>\n",
       "      <td>electrician</td>\n",
       "      <td>not electrician</td>\n",
       "      <td>electrician</td>\n",
       "      <td>Professional plumbing, heating, gas fitter and...</td>\n",
       "      <td>5.0</td>\n",
       "      <td>83</td>\n",
       "      <td>78</td>\n",
       "      <td>0.97</td>\n",
       "      <td>Plumbing,Electrical</td>\n",
       "      <td>Gas heating,High pressure jetting,Blocked drai...</td>\n",
       "      <td>English,Hungarian,Russian,Hebrew</td>\n",
       "      <td>Plumber,Gasfitter,Heating technician,Electrician</td>\n",
       "      <td>Truck</td>\n",
       "      <td>NaN</td>\n",
       "      <td>1</td>\n",
       "    </tr>\n",
       "    <tr>\n",
       "      <th>1</th>\n",
       "      <td>Brad M.</td>\n",
       "      <td>Gladstone Park VIC, Australia</td>\n",
       "      <td>Licence No. REC-31648\\t</td>\n",
       "      <td>17.0</td>\n",
       "      <td>31648\\t</td>\n",
       "      <td>electrician</td>\n",
       "      <td>not electrician</td>\n",
       "      <td>electrician</td>\n",
       "      <td>electrician</td>\n",
       "      <td>Licenced, Registered and Insured Electrician. ...</td>\n",
       "      <td>5.0</td>\n",
       "      <td>93</td>\n",
       "      <td>83</td>\n",
       "      <td>0.96</td>\n",
       "      <td>A Grade, REC, ABN</td>\n",
       "      <td>Electrician</td>\n",
       "      <td>English</td>\n",
       "      <td>Electrician</td>\n",
       "      <td>Car</td>\n",
       "      <td>08/05/2021, 18:18:43</td>\n",
       "      <td>1</td>\n",
       "    </tr>\n",
       "    <tr>\n",
       "      <th>2</th>\n",
       "      <td>David J.</td>\n",
       "      <td>Coburg VIC, Australia</td>\n",
       "      <td>Licence No. REC-31209</td>\n",
       "      <td>17.0</td>\n",
       "      <td>31209</td>\n",
       "      <td>electrician</td>\n",
       "      <td>electrician</td>\n",
       "      <td>electrician</td>\n",
       "      <td>electrician</td>\n",
       "      <td>I'm a fully qualified and insured Electrical C...</td>\n",
       "      <td>5.0</td>\n",
       "      <td>16</td>\n",
       "      <td>15</td>\n",
       "      <td>1.00</td>\n",
       "      <td>Cert III Electrotechnology,Bachelor of Social ...</td>\n",
       "      <td>Electrical tasks</td>\n",
       "      <td></td>\n",
       "      <td>Electrical</td>\n",
       "      <td>Online,Walk,Car</td>\n",
       "      <td>NaN</td>\n",
       "      <td>1</td>\n",
       "    </tr>\n",
       "    <tr>\n",
       "      <th>3</th>\n",
       "      <td>Minh H.</td>\n",
       "      <td>Deer Park VIC, Australia</td>\n",
       "      <td>Licence No. REC-31159</td>\n",
       "      <td>17.0</td>\n",
       "      <td>31159</td>\n",
       "      <td>electrician</td>\n",
       "      <td>electrician</td>\n",
       "      <td>electrician</td>\n",
       "      <td>not electrician</td>\n",
       "      <td>Insured Registered Electrician contractor ‚≠êR...</td>\n",
       "      <td>5.0</td>\n",
       "      <td>102</td>\n",
       "      <td>88</td>\n",
       "      <td>0.98</td>\n",
       "      <td>Cert III in Electrotechnology of Electricians</td>\n",
       "      <td>Electrician,TV mount,Telecommunications Techin...</td>\n",
       "      <td>English,Vietnamese</td>\n",
       "      <td>Domestic, commercial, industrial</td>\n",
       "      <td>Van Hiace</td>\n",
       "      <td>08/05/2021, 18:18:36</td>\n",
       "      <td>1</td>\n",
       "    </tr>\n",
       "    <tr>\n",
       "      <th>4</th>\n",
       "      <td>Daniel  F.</td>\n",
       "      <td>Carrum Downs VIC, Australia</td>\n",
       "      <td>Licence No. REC- 30745</td>\n",
       "      <td>18.0</td>\n",
       "      <td>30745</td>\n",
       "      <td>electrician</td>\n",
       "      <td>not electrician</td>\n",
       "      <td>not electrician</td>\n",
       "      <td>not electrician</td>\n",
       "      <td>Hi, I‚Äôm a fully licensed A grade electrician...</td>\n",
       "      <td>5.0</td>\n",
       "      <td>510</td>\n",
       "      <td>453</td>\n",
       "      <td>1.00</td>\n",
       "      <td></td>\n",
       "      <td></td>\n",
       "      <td></td>\n",
       "      <td></td>\n",
       "      <td></td>\n",
       "      <td>08/05/2021, 18:20:18</td>\n",
       "      <td>1</td>\n",
       "    </tr>\n",
       "  </tbody>\n",
       "</table>\n",
       "</div>"
      ],
      "text/plain": [
       "         Name                        Address  ...             TimeFrame  HasLicence\n",
       "0   Laszlo M.   Brighton VIC 3186, Australia  ...                   NaN           1\n",
       "1     Brad M.  Gladstone Park VIC, Australia  ...  08/05/2021, 18:18:43           1\n",
       "2    David J.          Coburg VIC, Australia  ...                   NaN           1\n",
       "3     Minh H.       Deer Park VIC, Australia  ...  08/05/2021, 18:18:36           1\n",
       "4  Daniel  F.    Carrum Downs VIC, Australia  ...  08/05/2021, 18:20:18           1\n",
       "\n",
       "[5 rows x 21 columns]"
      ]
     },
     "execution_count": 16,
     "metadata": {},
     "output_type": "execute_result"
    }
   ],
   "source": [
    "data.head()"
   ]
  },
  {
   "cell_type": "code",
   "execution_count": 18,
   "metadata": {
    "id": "x3pd5DOI4FKA"
   },
   "outputs": [],
   "source": [
    "data['HasLicence'] = [1 if str(x).strip() != \"\" else 0 for x in data['Licence Number Extracted']]"
   ]
  },
  {
   "cell_type": "markdown",
   "metadata": {
    "id": "tsCblyFEup_O"
   },
   "source": [
    "Completion Rate = b0 + b1*Rating + b2*HasLicnce + b3*Rating*HasLicence"
   ]
  },
  {
   "cell_type": "code",
   "execution_count": 19,
   "metadata": {
    "colab": {
     "base_uri": "https://localhost:8080/"
    },
    "id": "xF4Y_f5d5lvg",
    "outputId": "38061a7b-880d-4a93-d623-c115ae839753"
   },
   "outputs": [
    {
     "data": {
      "text/plain": [
       "0    0.97\n",
       "1    0.96\n",
       "2    1.00\n",
       "3    0.98\n",
       "4    1.00\n",
       "Name: Completion Rate, dtype: float64"
      ]
     },
     "execution_count": 19,
     "metadata": {},
     "output_type": "execute_result"
    }
   ],
   "source": [
    "data['Rating'] = pd.to_numeric(data['Rating'], \n",
    "                                        errors ='coerce')\n",
    "data['Completion Rate'] = pd.to_numeric(data['Completion Rate'], \n",
    "                                        errors ='coerce')\n",
    "\n",
    "data.dropna(subset = [\"Rating\", \"Completion Rate\"], inplace=True)\n",
    "data.reset_index(drop=True, inplace=True)\n",
    "X = data[['Rating', 'HasLicence']]\n",
    "y = data['Completion Rate']\n",
    "y.values.ravel()\n",
    "X.head()\n",
    "y.head()"
   ]
  },
  {
   "cell_type": "code",
   "execution_count": 20,
   "metadata": {
    "id": "9m7som95AtcW"
   },
   "outputs": [],
   "source": [
    "X_interaction = PolynomialFeatures(2, \n",
    "                                   interaction_only=True, \n",
    "                                   include_bias=False).fit_transform(X)"
   ]
  },
  {
   "cell_type": "code",
   "execution_count": 21,
   "metadata": {
    "colab": {
     "base_uri": "https://localhost:8080/",
     "height": 206
    },
    "id": "3k5t825rBRYN",
    "outputId": "869c94d3-93d5-42c5-927c-ed85c2b05c0c"
   },
   "outputs": [
    {
     "data": {
      "text/html": [
       "<div>\n",
       "<style scoped>\n",
       "    .dataframe tbody tr th:only-of-type {\n",
       "        vertical-align: middle;\n",
       "    }\n",
       "\n",
       "    .dataframe tbody tr th {\n",
       "        vertical-align: top;\n",
       "    }\n",
       "\n",
       "    .dataframe thead th {\n",
       "        text-align: right;\n",
       "    }\n",
       "</style>\n",
       "<table border=\"1\" class=\"dataframe\">\n",
       "  <thead>\n",
       "    <tr style=\"text-align: right;\">\n",
       "      <th></th>\n",
       "      <th>Rating</th>\n",
       "      <th>HasLicence</th>\n",
       "      <th>Rating:HasLicence</th>\n",
       "    </tr>\n",
       "  </thead>\n",
       "  <tbody>\n",
       "    <tr>\n",
       "      <th>0</th>\n",
       "      <td>5.0</td>\n",
       "      <td>1.0</td>\n",
       "      <td>5.0</td>\n",
       "    </tr>\n",
       "    <tr>\n",
       "      <th>1</th>\n",
       "      <td>5.0</td>\n",
       "      <td>1.0</td>\n",
       "      <td>5.0</td>\n",
       "    </tr>\n",
       "    <tr>\n",
       "      <th>2</th>\n",
       "      <td>5.0</td>\n",
       "      <td>1.0</td>\n",
       "      <td>5.0</td>\n",
       "    </tr>\n",
       "    <tr>\n",
       "      <th>3</th>\n",
       "      <td>5.0</td>\n",
       "      <td>1.0</td>\n",
       "      <td>5.0</td>\n",
       "    </tr>\n",
       "    <tr>\n",
       "      <th>4</th>\n",
       "      <td>5.0</td>\n",
       "      <td>1.0</td>\n",
       "      <td>5.0</td>\n",
       "    </tr>\n",
       "  </tbody>\n",
       "</table>\n",
       "</div>"
      ],
      "text/plain": [
       "   Rating  HasLicence  Rating:HasLicence\n",
       "0     5.0         1.0                5.0\n",
       "1     5.0         1.0                5.0\n",
       "2     5.0         1.0                5.0\n",
       "3     5.0         1.0                5.0\n",
       "4     5.0         1.0                5.0"
      ]
     },
     "execution_count": 21,
     "metadata": {},
     "output_type": "execute_result"
    }
   ],
   "source": [
    "df = pd.DataFrame(X_interaction, \n",
    "                              columns = ['Rating','HasLicence',\n",
    "                                         'Rating:HasLicence'])\n",
    "df.reset_index(drop=True, inplace=True)\n",
    "df.head()"
   ]
  },
  {
   "cell_type": "code",
   "execution_count": 22,
   "metadata": {
    "id": "vioxekyBBv1T"
   },
   "outputs": [],
   "source": [
    "model = linear_model.OLS(y, df).fit()"
   ]
  },
  {
   "cell_type": "code",
   "execution_count": 23,
   "metadata": {
    "colab": {
     "base_uri": "https://localhost:8080/",
     "height": 507
    },
    "id": "wvZcH5-UD5To",
    "outputId": "61865241-89f1-44c0-845a-6b529ffe99f2"
   },
   "outputs": [
    {
     "data": {
      "text/html": [
       "<table class=\"simpletable\">\n",
       "<caption>OLS Regression Results</caption>\n",
       "<tr>\n",
       "  <th>Dep. Variable:</th>     <td>Completion Rate</td> <th>  R-squared (uncentered):</th>      <td>   0.968</td> \n",
       "</tr>\n",
       "<tr>\n",
       "  <th>Model:</th>                   <td>OLS</td>       <th>  Adj. R-squared (uncentered):</th> <td>   0.968</td> \n",
       "</tr>\n",
       "<tr>\n",
       "  <th>Method:</th>             <td>Least Squares</td>  <th>  F-statistic:       </th>          <td>   3011.</td> \n",
       "</tr>\n",
       "<tr>\n",
       "  <th>Date:</th>             <td>Mon, 30 Aug 2021</td> <th>  Prob (F-statistic):</th>          <td>2.20e-221</td>\n",
       "</tr>\n",
       "<tr>\n",
       "  <th>Time:</th>                 <td>07:11:06</td>     <th>  Log-Likelihood:    </th>          <td>  121.93</td> \n",
       "</tr>\n",
       "<tr>\n",
       "  <th>No. Observations:</th>      <td>   299</td>      <th>  AIC:               </th>          <td>  -237.9</td> \n",
       "</tr>\n",
       "<tr>\n",
       "  <th>Df Residuals:</th>          <td>   296</td>      <th>  BIC:               </th>          <td>  -226.8</td> \n",
       "</tr>\n",
       "<tr>\n",
       "  <th>Df Model:</th>              <td>     3</td>      <th>                     </th>              <td> </td>    \n",
       "</tr>\n",
       "<tr>\n",
       "  <th>Covariance Type:</th>      <td>nonrobust</td>    <th>                     </th>              <td> </td>    \n",
       "</tr>\n",
       "</table>\n",
       "<table class=\"simpletable\">\n",
       "<tr>\n",
       "          <td></td>             <th>coef</th>     <th>std err</th>      <th>t</th>      <th>P>|t|</th>  <th>[0.025</th>    <th>0.975]</th>  \n",
       "</tr>\n",
       "<tr>\n",
       "  <th>Rating</th>            <td>    0.1765</td> <td>    0.002</td> <td>   82.781</td> <td> 0.000</td> <td>    0.172</td> <td>    0.181</td>\n",
       "</tr>\n",
       "<tr>\n",
       "  <th>HasLicence</th>        <td>    0.8680</td> <td>    2.689</td> <td>    0.323</td> <td> 0.747</td> <td>   -4.424</td> <td>    6.160</td>\n",
       "</tr>\n",
       "<tr>\n",
       "  <th>Rating:HasLicence</th> <td>   -0.1612</td> <td>    0.539</td> <td>   -0.299</td> <td> 0.765</td> <td>   -1.222</td> <td>    0.900</td>\n",
       "</tr>\n",
       "</table>\n",
       "<table class=\"simpletable\">\n",
       "<tr>\n",
       "  <th>Omnibus:</th>       <td>172.106</td> <th>  Durbin-Watson:     </th> <td>   1.898</td> \n",
       "</tr>\n",
       "<tr>\n",
       "  <th>Prob(Omnibus):</th> <td> 0.000</td>  <th>  Jarque-Bera (JB):  </th> <td> 872.027</td> \n",
       "</tr>\n",
       "<tr>\n",
       "  <th>Skew:</th>          <td>-2.499</td>  <th>  Prob(JB):          </th> <td>4.38e-190</td>\n",
       "</tr>\n",
       "<tr>\n",
       "  <th>Kurtosis:</th>      <td> 9.710</td>  <th>  Cond. No.          </th> <td>1.50e+03</td> \n",
       "</tr>\n",
       "</table><br/><br/>Warnings:<br/>[1] Standard Errors assume that the covariance matrix of the errors is correctly specified.<br/>[2] The condition number is large, 1.5e+03. This might indicate that there are<br/>strong multicollinearity or other numerical problems."
      ],
      "text/plain": [
       "<class 'statsmodels.iolib.summary.Summary'>\n",
       "\"\"\"\n",
       "                                 OLS Regression Results                                \n",
       "=======================================================================================\n",
       "Dep. Variable:        Completion Rate   R-squared (uncentered):                   0.968\n",
       "Model:                            OLS   Adj. R-squared (uncentered):              0.968\n",
       "Method:                 Least Squares   F-statistic:                              3011.\n",
       "Date:                Mon, 30 Aug 2021   Prob (F-statistic):                   2.20e-221\n",
       "Time:                        07:11:06   Log-Likelihood:                          121.93\n",
       "No. Observations:                 299   AIC:                                     -237.9\n",
       "Df Residuals:                     296   BIC:                                     -226.8\n",
       "Df Model:                           3                                                  \n",
       "Covariance Type:            nonrobust                                                  \n",
       "=====================================================================================\n",
       "                        coef    std err          t      P>|t|      [0.025      0.975]\n",
       "-------------------------------------------------------------------------------------\n",
       "Rating                0.1765      0.002     82.781      0.000       0.172       0.181\n",
       "HasLicence            0.8680      2.689      0.323      0.747      -4.424       6.160\n",
       "Rating:HasLicence    -0.1612      0.539     -0.299      0.765      -1.222       0.900\n",
       "==============================================================================\n",
       "Omnibus:                      172.106   Durbin-Watson:                   1.898\n",
       "Prob(Omnibus):                  0.000   Jarque-Bera (JB):              872.027\n",
       "Skew:                          -2.499   Prob(JB):                    4.38e-190\n",
       "Kurtosis:                       9.710   Cond. No.                     1.50e+03\n",
       "==============================================================================\n",
       "\n",
       "Warnings:\n",
       "[1] Standard Errors assume that the covariance matrix of the errors is correctly specified.\n",
       "[2] The condition number is large, 1.5e+03. This might indicate that there are\n",
       "strong multicollinearity or other numerical problems.\n",
       "\"\"\""
      ]
     },
     "execution_count": 23,
     "metadata": {},
     "output_type": "execute_result"
    }
   ],
   "source": [
    "model.summary()"
   ]
  },
  {
   "cell_type": "markdown",
   "metadata": {
    "id": "9RyQLSXnE3xV"
   },
   "source": [
    "As p-value of Licence and interaction of rating with licence has above 0.05. It failed to reject the null hypothesis that the coefficient of licence and its interaction with rating is no 0 and not significant. Hence, people do not really care about licensed, they just see completion rating to select the tasker for their job."
   ]
  },
  {
   "cell_type": "code",
   "execution_count": 24,
   "metadata": {
    "colab": {
     "base_uri": "https://localhost:8080/",
     "height": 279
    },
    "id": "opktWpePv3KQ",
    "outputId": "f9810429-6eea-4a6f-9535-5fbe6cc3c865"
   },
   "outputs": [
    {
     "data": {
      "image/png": "[encoded data removed]",
      "text/plain": [
       "<Figure size 432x288 with 1 Axes>"
      ]
     },
     "metadata": {
      "needs_background": "light"
     },
     "output_type": "display_data"
    }
   ],
   "source": [
    "plt.plot(df['Rating'], y, 'o')\n",
    "plt.xlabel('Rating')\n",
    "plt.ylabel('Completion Rate')\n",
    "plt.show()"
   ]
  },
  {
   "cell_type": "markdown",
   "metadata": {
    "id": "wqAV5q76G-dS"
   },
   "source": [
    "# Task 4\n",
    "\n",
    "Electrician suburb clustering"
   ]
  },
  {
   "cell_type": "code",
   "execution_count": 27,
   "metadata": {
    "id": "siXQJTwhHDKP"
   },
   "outputs": [],
   "source": [
    "address = data['Address']\n",
    "address = [x.strip().split(' ')[0] for x in address]\n",
    "address = [x.replace(',', '').strip() for x in address]"
   ]
  },
  {
   "cell_type": "code",
   "execution_count": 28,
   "metadata": {
    "colab": {
     "base_uri": "https://localhost:8080/"
    },
    "id": "xU5QZM55IVlp",
    "outputId": "092fa0f9-c569-4684-a598-cf529fa2e204"
   },
   "outputs": [
    {
     "name": "stdout",
     "output_type": "stream",
     "text": [
      "['Melbourne' '34']\n",
      "['Werribee' '7']\n",
      "['Burwood' '5']\n",
      "['Carrum' '5']\n",
      "['Cranbourne' '5']\n",
      "['Epping' '5']\n",
      "['Frankston' '5']\n",
      "['Hawthorn' '5']\n",
      "['Mill' '5']\n",
      "['Reservoir' '5']\n",
      "['South' '5']\n",
      "['Box' '4']\n",
      "['Clayton' '4']\n",
      "['Glen' '4']\n",
      "['Preston' '4']\n",
      "['Thornbury' '4']\n",
      "['Altona' '3']\n",
      "['Bayswater' '3']\n",
      "['Bundoora' '3']\n",
      "['Caroline' '3']\n",
      "['Clyde' '3']\n",
      "['Coburg' '3']\n",
      "['Dandenong' '3']\n",
      "['Deer' '3']\n",
      "['Ferntree' '3']\n",
      "['Geelong' '3']\n",
      "['Glenroy' '3']\n",
      "['Greenvale' '3']\n",
      "['Lynbrook' '3']\n",
      "['Melton' '3']\n",
      "['Mitcham' '3']\n",
      "['Noble' '3']\n",
      "['North' '3']\n",
      "['Pakenham' '3']\n",
      "['Pascoe' '3']\n",
      "['Richmond' '3']\n",
      "['Ringwood' '3']\n",
      "['St' '3']\n",
      "['Tarneit' '3']\n",
      "['Armstrong' '2']\n",
      "['Ballarat' '2']\n",
      "['Brookfield' '2']\n",
      "['Brunswick' '2']\n",
      "['Caulfield' '2']\n",
      "['Croydon' '2']\n",
      "['Derrimut' '2']\n",
      "['Dingley' '2']\n",
      "['Doncaster' '2']\n",
      "['Fawkner' '2']\n",
      "['Gladstone' '2']\n",
      "['Grovedale' '2']\n",
      "['Keilor' '2']\n",
      "['Kew' '2']\n",
      "['Lalor' '2']\n",
      "['Maidstone' '2']\n",
      "['Malvern' '2']\n",
      "['Moonee' '2']\n",
      "['Mornington' '2']\n",
      "['Mount' '2']\n",
      "['Narre' '2']\n",
      "['Rowville' '2']\n",
      "['Sunshine' '2']\n",
      "['Sydenham' '2']\n",
      "['Thomastown' '2']\n",
      "['Truganina' '2']\n",
      "['Wheelers' '2']\n",
      "['Williamstown' '2']\n",
      "['Aintree' '1']\n",
      "['Albion' '1']\n",
      "['Ascot' '1']\n",
      "['Aspendale' '1']\n",
      "['Aveley' '1']\n",
      "['Balwyn' '1']\n",
      "['Bendigo' '1']\n",
      "['Brighton' '1']\n",
      "['Brisbane' '1']\n",
      "['Bulleen' '1']\n",
      "['Caloundra' '1']\n",
      "['Carlisle' '1']\n",
      "['Chadstone' '1']\n",
      "['Cheltenham' '1']\n",
      "['Coldstream' '1']\n",
      "['Collingwood' '1']\n",
      "['Craigieburn' '1']\n",
      "['Docklands' '1']\n",
      "['Doreen' '1']\n",
      "['Doveton' '1']\n",
      "['Dromana' '1']\n",
      "['Elwood' '1']\n",
      "['Fairfield' '1']\n",
      "['Fitzroy' '1']\n",
      "['Footscray' '1']\n",
      "['Greensborough' '1']\n",
      "['Hallam' '1']\n",
      "['Hampton' '1']\n",
      "['Harkness' '1']\n",
      "['Hillside' '1']\n",
      "['Inverloch' '1']\n",
      "['Keysborough' '1']\n",
      "['Kilsyth' '1']\n",
      "['Knoxfield' '1']\n",
      "['Langwarrin' '1']\n",
      "['Lilydale' '1']\n",
      "['Mont' '1']\n",
      "['Moorabbin' '1']\n",
      "['Mooroolbark' '1']\n",
      "['Mordialloc' '1']\n",
      "['Mulgrave' '1']\n",
      "['Murrumbeena' '1']\n",
      "['Northcote' '1']\n",
      "['Nunawading' '1']\n",
      "['Oakleigh' '1']\n",
      "['Officer' '1']\n",
      "['Parkville' '1']\n",
      "['Patterson' '1']\n",
      "['Plumpton' '1']\n",
      "['Point' '1']\n",
      "['Rockbank' '1']\n",
      "['Rosanna' '1']\n",
      "['Rosebud' '1']\n",
      "['Rye' '1']\n",
      "['Seabrook' '1']\n",
      "['Springvale' '1']\n",
      "['Sunbury' '1']\n",
      "['Sydney' '1']\n",
      "['Templestowe' '1']\n",
      "['Tooradin' '1']\n",
      "['Tullamarine' '1']\n",
      "['Vermont' '1']\n",
      "['Viewbank' '1']\n",
      "['Watsonia' '1']\n",
      "['West' '1']\n",
      "['Williams' '1']\n",
      "['Windsor' '1']\n",
      "['Wollert' '1']\n"
     ]
    }
   ],
   "source": [
    "address_list = np.array(address)\n",
    "unique, counts = np.unique(address_list, return_counts=True)\n",
    "frequencies = np.array((unique, counts)).T\n",
    "frequencies = sorted(frequencies, key=lambda x: int(x[1]), reverse=True)\n",
    "for freq in frequencies:\n",
    "  print(freq)"
   ]
  }
 ],
 "metadata": {
  "colab": {
   "collapsed_sections": [],
   "name": "Correlation and Clustering.ipynb",
   "provenance": []
  },
  "kernelspec": {
   "display_name": "Python 3",
   "language": "python",
   "name": "python3"
  },
  "language_info": {
   "codemirror_mode": {
    "name": "ipython",
    "version": 3
   },
   "file_extension": ".py",
   "mimetype": "text/x-python",
   "name": "python",
   "nbconvert_exporter": "python",
   "pygments_lexer": "ipython3",
   "version": "3.7.11"
  }
 },
 "nbformat": 4,
 "nbformat_minor": 1
}
